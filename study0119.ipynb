{
 "cells": [
  {
   "cell_type": "code",
   "execution_count": 1,
   "metadata": {},
   "outputs": [
    {
     "name": "stdout",
     "output_type": "stream",
     "text": [
      "성적 평균은 60.0  입니다.\n",
      "80점 이상 성적은 받은 학생은 2 명 입니다.\n"
     ]
    }
   ],
   "source": [
    "def student_average():\n",
    "    STUDENTS = 5\n",
    "    scores = []\n",
    "    scoreSum = 0\n",
    "\n",
    "    for i in range(STUDENTS):\n",
    "        value = int(input(\"성적을 입력하시오: \"))\n",
    "        scores.append(value) # scores 리스트에 입력값 추가\n",
    "        scoreSum += value\n",
    "    \n",
    "    scoreAvg = scoreSum / len(scores)\n",
    "\n",
    "    highScoreStudents = 0\n",
    "    \n",
    "    for i in range(len(scores)):\n",
    "        if(scores[i] >= 80): # index를 활용한 리스트 접근\n",
    "            highScoreStudents += 1\n",
    "    \n",
    "    print(\"성적 평균은\", scoreAvg, \" 입니다.\")\n",
    "    print(\"80점 이상 성적은 받은 학생은\", highScoreStudents, \"명 입니다.\")\n",
    "\n",
    "student_average()"
   ]
  },
  {
   "cell_type": "code",
   "execution_count": 2,
   "metadata": {},
   "outputs": [
    {
     "name": "stdout",
     "output_type": "stream",
     "text": [
      "id: 0x26a84722180, scores: [10, 20, 30, 40, 50]\n",
      "id: 0x26a84759e80, values1: [10, 20, 99, 40, 50]\n",
      "id: 0x26a84767a80, values2: [10, 20, 30, 40, 99]\n"
     ]
    }
   ],
   "source": [
    "from copy import deepcopy\n",
    "\n",
    "scores = [ 10, 20, 30, 40, 50 ]\n",
    "values1 = list(scores)\n",
    "values1[2] = 99\n",
    "values2 = deepcopy(scores)\n",
    "values2[4] = 99\n",
    "\n",
    "print(\"id: {0:#x}, scores: {1}\".format(id(scores), scores))\n",
    "print(\"id: {0:#x}, values1: {1}\".format(id(values1), values1))\n",
    "print(\"id: {0:#x}, values2: {1}\".format(id(values2), values2))"
   ]
  },
  {
   "cell_type": "code",
   "execution_count": 7,
   "metadata": {},
   "outputs": [
    {
     "name": "stdout",
     "output_type": "stream",
     "text": [
      "카운터 b의 값은 2\n",
      "카운터 a의 값은 1\n"
     ]
    }
   ],
   "source": [
    "class Counter:\n",
    "\n",
    "    def __init__(self) -> None:\n",
    "        self.count = 0\n",
    "    def reset(self):\n",
    "        self.count = 0\n",
    "    def increment(self):\n",
    "        self.count += 1\n",
    "    def get(self):\n",
    "        return self.count\n",
    "\n",
    "a = Counter() # Counter클래스의 객체 생성\n",
    "a.reset()\n",
    "a.increment()\n",
    "\n",
    "b = Counter()\n",
    "b.increment()\n",
    "b.increment()\n",
    "\n",
    "print(\"카운터 b의 값은\", b.get())\n",
    "\n",
    "print(\"카운터 a의 값은\", a.get())"
   ]
  },
  {
   "cell_type": "code",
   "execution_count": 9,
   "metadata": {},
   "outputs": [
    {
     "name": "stdout",
     "output_type": "stream",
     "text": [
      "0 \t 0\n",
      "1 \t 1\n",
      "2 \t 4\n",
      "3 \t 9\n",
      "4 \t 16\n",
      "사각형의 변= 5\n",
      "리스트 값= [2, 3, 4, 5, 6]\n",
      "반복 횟수= 5\n"
     ]
    }
   ],
   "source": [
    "# 사각형을 클래스로 정의한다. \n",
    "class Rectangle:\n",
    "    def __init__(self, side=0):\n",
    "        self.side = side\n",
    "    def getArea(self):\n",
    "        return self.side * self.side\n",
    "\n",
    "# End of Rectangle\n",
    "# 사각형 객체와 반복횟수를 받아서 변을 증가시키면서 면적을 출력한다.\n",
    "def printAreas(rect, array, n):\n",
    "    while n >= 1:\n",
    "        print(rect.side, \"\\t\", rect.getArea())\n",
    "        rect.side = rect.side + 1\n",
    "        array[n-1] = array[n-1] + 1\n",
    "        n = n - 1\n",
    "\n",
    "# printAreas()을 호출하여서 객체의 내용이 변경되는지를 확인한다. \n",
    "myRect = Rectangle()\n",
    "count = 5\n",
    "list1 = [1, 2, 3, 4, 5]\n",
    "printAreas(myRect, list1, count)\n",
    "print(\"사각형의 변=\", myRect.side)\n",
    "print(\"리스트 값=\", list1)\n",
    "print(\"반복 횟수=\", count)"
   ]
  },
  {
   "cell_type": "code",
   "execution_count": null,
   "metadata": {},
   "outputs": [],
   "source": []
  }
 ],
 "metadata": {
  "interpreter": {
   "hash": "3fd1543fd3adbbdbe8574cb9f5f86b5227afdbb2aa4417c725a21a160b1183c1"
  },
  "kernelspec": {
   "display_name": "Python 3.10.1 64-bit",
   "language": "python",
   "name": "python3"
  },
  "language_info": {
   "codemirror_mode": {
    "name": "ipython",
    "version": 3
   },
   "file_extension": ".py",
   "mimetype": "text/x-python",
   "name": "python",
   "nbconvert_exporter": "python",
   "pygments_lexer": "ipython3",
   "version": "3.10.1"
  },
  "orig_nbformat": 4
 },
 "nbformat": 4,
 "nbformat_minor": 2
}
