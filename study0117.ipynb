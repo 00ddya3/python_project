{
 "cells": [
  {
   "cell_type": "code",
   "execution_count": 1,
   "id": "bd279df3",
   "metadata": {},
   "outputs": [
    {
     "name": "stdout",
     "output_type": "stream",
     "text": [
      " C ����̺��� �������� �̸��� �����ϴ�.\n",
      " ���� �Ϸ� ��ȣ: CEA2-8C1A\n",
      "\n",
      " c:\\jupiterworkspace\\pandas\\data ���͸�\n",
      "\n",
      "2022-01-17  ���� 09:48    <DIR>          .\n",
      "2022-01-17  ���� 09:48    <DIR>          ..\n",
      "2022-01-17  ���� 09:38            45,768 banklist.csv\n",
      "2022-01-17  ���� 09:38            90,190 billboard.csv\n",
      "2022-01-17  ���� 09:38                56 concat_1.csv\n",
      "2022-01-17  ���� 09:38                56 concat_2.csv\n",
      "2022-01-17  ���� 09:38                64 concat_3.csv\n",
      "2022-01-17  ���� 09:38             5,674 country_timeseries.csv\n",
      "2022-01-17  ���� 09:38            81,932 gapminder.tsv\n",
      "2022-01-17  ���� 09:38               965 pew.csv\n",
      "2022-01-17  ���� 09:38            11,318 raw_data_urls.txt\n",
      "2022-01-17  ���� 09:38               433 scientists.csv\n",
      "2022-01-17  ���� 09:38               122 survey_person.csv\n",
      "2022-01-17  ���� 09:38                74 survey_site.csv\n",
      "2022-01-17  ���� 09:38               391 survey_survey.csv\n",
      "2022-01-17  ���� 09:38               168 survey_visited.csv\n",
      "2022-01-17  ���� 09:38           177,555 tesla_stock_quandl.csv\n",
      "2022-01-17  ���� 09:38             2,898 weather.csv\n",
      "              16�� ����             417,664 ����Ʈ\n",
      "               2�� ���͸�  30,170,234,880 ����Ʈ ����\n"
     ]
    }
   ],
   "source": [
    "%ls data"
   ]
  },
  {
   "cell_type": "code",
   "execution_count": 3,
   "id": "1b444957",
   "metadata": {},
   "outputs": [
    {
     "name": "stdout",
     "output_type": "stream",
     "text": [
      "<class 'pandas.core.series.Series'>\n",
      "0    Afghanistan\n",
      "1    Afghanistan\n",
      "2    Afghanistan\n",
      "3    Afghanistan\n",
      "4    Afghanistan\n",
      "Name: country, dtype: object\n"
     ]
    }
   ],
   "source": [
    "#하나의 열 안의 데이터 출력\n",
    "import pandas as pd\n",
    "df = pd.read_csv(\"data/gapminder.tsv\", sep='\\t')\n",
    "country_df=df['country']\n",
    "print(type(country_df))\n",
    "print(country_df.head())"
   ]
  },
  {
   "cell_type": "code",
   "execution_count": 4,
   "id": "b5876d22",
   "metadata": {},
   "outputs": [
    {
     "name": "stdout",
     "output_type": "stream",
     "text": [
      "country      Afghanistan\n",
      "continent           Asia\n",
      "year                1952\n",
      "lifeExp           28.801\n",
      "pop              8425333\n",
      "gdpPercap     779.445314\n",
      "Name: 0, dtype: object\n"
     ]
    }
   ],
   "source": [
    "#하나의 행 안의 데이터 출력\n",
    "import pandas as pd\n",
    "df = pd.read_csv(\"data/gapminder.tsv\", sep='\\t')\n",
    "print(df.loc[0])"
   ]
  },
  {
   "cell_type": "code",
   "execution_count": 6,
   "id": "ad94b993",
   "metadata": {},
   "outputs": [
    {
     "name": "stdout",
     "output_type": "stream",
     "text": [
      "range(0, 5)\n"
     ]
    }
   ],
   "source": [
    "print(range(5))"
   ]
  },
  {
   "cell_type": "code",
   "execution_count": 7,
   "id": "901541f2",
   "metadata": {},
   "outputs": [
    {
     "name": "stdout",
     "output_type": "stream",
     "text": [
      "[0, 1, 2, 3, 4]\n"
     ]
    }
   ],
   "source": [
    "print(list(range(5)))"
   ]
  },
  {
   "cell_type": "code",
   "execution_count": 9,
   "id": "c4ff58c4",
   "metadata": {},
   "outputs": [
    {
     "name": "stdout",
     "output_type": "stream",
     "text": [
      "       country continent  year\n",
      "0  Afghanistan      Asia  1952\n",
      "1  Afghanistan      Asia  1957\n",
      "2  Afghanistan      Asia  1962\n",
      "3  Afghanistan      Asia  1967\n",
      "4  Afghanistan      Asia  1972\n"
     ]
    }
   ],
   "source": [
    "import pandas as pd\n",
    "df = pd.read_csv(\"data/gapminder.tsv\", sep='\\t')\n",
    "a=df.iloc[:, list(range(3))]\n",
    "print(a.head())"
   ]
  },
  {
   "cell_type": "code",
   "execution_count": 23,
   "id": "a3a8d793",
   "metadata": {},
   "outputs": [
    {
     "name": "stdout",
     "output_type": "stream",
     "text": [
      "59.47443936619718\n"
     ]
    }
   ],
   "source": [
    "import pandas as pd\n",
    "df = pd.read_csv(\"data/gapminder.tsv\", sep='\\t')\n",
    "grouped_year_df = df.groupby('year').mean()\n",
    "grouped_year_df_lifeExp = grouped_year_df['lifeExp']\n",
    "mean_lifeExp_by_year = grouped_year_df_lifeExp.mean()\n",
    "print(mean_lifeExp_by_year)\n",
    "#mean_life_exp_bY_year = grouped_year_df['lifeExp']\n"
   ]
  },
  {
   "cell_type": "code",
   "execution_count": 27,
   "id": "8ddef835",
   "metadata": {},
   "outputs": [
    {
     "name": "stdout",
     "output_type": "stream",
     "text": [
      "                     Occupation        Born        Died  Age\n",
      "Rosaline Franklin       Chemist  1920-07-25  1958-04-16   37\n",
      "William Gosset     Statistician  1876-06-13  1937-10-16   61\n"
     ]
    }
   ],
   "source": [
    "#데이터프레임 만들기\n",
    "import pandas as pd\n",
    "scientists = pd.DataFrame(\n",
    "    data = {'Occupation' : ['Chemist', 'Statistician'],\n",
    "            'Born': ['1920-07-25', '1876-06-13'],\n",
    "            'Died': ['1958-04-16', '1937-10-16'],\n",
    "            'Age': [37, 61]},\n",
    "    index = ['Rosaline Franklin', 'William Gosset'],\n",
    "    columns = ['Occupation', 'Born', 'Died', 'Age']\n",
    ")\n",
    "\n",
    "print(scientists)"
   ]
  },
  {
   "cell_type": "code",
   "execution_count": 28,
   "id": "a1797fcd",
   "metadata": {},
   "outputs": [
    {
     "name": "stdout",
     "output_type": "stream",
     "text": [
      "Occupation    Statistician\n",
      "Born            1876-06-13\n",
      "Died            1937-10-16\n",
      "Age                     61\n",
      "Name: William Gosset, dtype: object\n"
     ]
    }
   ],
   "source": [
    "first_row = scientists.loc['William Gosset']\n",
    "print(first_row)"
   ]
  },
  {
   "cell_type": "code",
   "execution_count": 29,
   "id": "095725de",
   "metadata": {},
   "outputs": [
    {
     "name": "stdout",
     "output_type": "stream",
     "text": [
      "                  Occupation        Born        Died  Age\n",
      "William Gosset  Statistician  1876-06-13  1937-10-16   61\n"
     ]
    }
   ],
   "source": [
    "print(scientists[scientists['Age'] > scientists['Age'].mean()])"
   ]
  },
  {
   "cell_type": "code",
   "execution_count": 31,
   "id": "69d01154",
   "metadata": {},
   "outputs": [
    {
     "name": "stdout",
     "output_type": "stream",
     "text": [
      "Rosaline Franklin    False\n",
      "William Gosset        True\n",
      "Name: Age, dtype: bool \n",
      "\n",
      "                  Occupation        Born        Died  Age\n",
      "William Gosset  Statistician  1876-06-13  1937-10-16   61\n"
     ]
    }
   ],
   "source": [
    "condition = scientists['Age'] > scientists['Age'].mean()\n",
    "print(condition, '\\n')\n",
    "print(scientists[condition])"
   ]
  },
  {
   "cell_type": "code",
   "execution_count": 33,
   "id": "706fb9be",
   "metadata": {},
   "outputs": [
    {
     "name": "stdout",
     "output_type": "stream",
     "text": [
      "                     Occupation        Born        Died  Age    born_dt  \\\n",
      "Rosaline Franklin       Chemist  1920-07-25  1958-04-16   37 1920-07-25   \n",
      "William Gosset     Statistician  1876-06-13  1937-10-16   61 1876-06-13   \n",
      "\n",
      "                     died_dt age_days_dt  \n",
      "Rosaline Franklin 1958-04-16  13779 days  \n",
      "William Gosset    1937-10-16  22404 days  \n"
     ]
    }
   ],
   "source": [
    "born_datetime = pd.to_datetime(scientists['Born'], format='%Y-%m-%d')\n",
    "died_datetime = pd.to_datetime(scientists['Died'], format='%Y-%m-%d')\n",
    "scientists['born_dt'], scientists['died_dt'] = (born_datetime, died_datetime)\n",
    "scientists['age_days_dt'] = (scientists['died_dt'] - scientists['born_dt'])\n",
    "print(scientists)"
   ]
  },
  {
   "cell_type": "code",
   "execution_count": 34,
   "id": "f837bb53",
   "metadata": {},
   "outputs": [
    {
     "name": "stdout",
     "output_type": "stream",
     "text": [
      "       0-9세  10-19세  20-29세  30-39세  40-49세  50-59세  60-69세  70-79세  80-89세  \\\n",
      "CityA    80     100     140     160     200     240     195     160      80   \n",
      "CityB   120     200     300     360     400     300      40      25      20   \n",
      "\n",
      "       90-99세  \n",
      "CityA      20  \n",
      "CityB      10  \n"
     ]
    }
   ],
   "source": [
    "import matplotlib.pyplot as plt\n",
    "import numpy as np\n",
    "import pandas as pd\n",
    "\n",
    "population = pd.DataFrame( \n",
    "    data={'0-9세' : [80, 120], '10-19세' : [100, 200], '20-29세' : [140, 300],\n",
    "        '30-39세' : [160, 360], '40-49세' : [200, 400], '50-59세' : [240, 300],\n",
    "        '60-69세' : [195, 40], '70-79세' : [160, 25], '80-89세' : [80, 20],\n",
    "        '90-99세' : [20, 10]},\n",
    "    index = ['CityA', 'CityB']\n",
    "    )\n",
    "print(population)"
   ]
  },
  {
   "cell_type": "code",
   "execution_count": null,
   "id": "8ce39014",
   "metadata": {},
   "outputs": [],
   "source": []
  }
 ],
 "metadata": {
  "kernelspec": {
   "display_name": "Python 3 (ipykernel)",
   "language": "python",
   "name": "python3"
  },
  "language_info": {
   "codemirror_mode": {
    "name": "ipython",
    "version": 3
   },
   "file_extension": ".py",
   "mimetype": "text/x-python",
   "name": "python",
   "nbconvert_exporter": "python",
   "pygments_lexer": "ipython3",
   "version": "3.9.7"
  }
 },
 "nbformat": 4,
 "nbformat_minor": 5
}
